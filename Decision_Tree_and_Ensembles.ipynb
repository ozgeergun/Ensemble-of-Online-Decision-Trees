{
  "nbformat": 4,
  "nbformat_minor": 0,
  "metadata": {
    "colab": {
      "name": "Decision Tree and Ensembles.ipynb",
      "provenance": [],
      "collapsed_sections": []
    },
    "kernelspec": {
      "name": "python3",
      "display_name": "Python 3"
    },
    "language_info": {
      "name": "python"
    },
    "accelerator": "GPU"
  },
  "cells": [
    {
      "cell_type": "code",
      "execution_count": null,
      "metadata": {
        "colab": {
          "base_uri": "https://localhost:8080/"
        },
        "id": "QVhb0A_IdL5S",
        "outputId": "004a51bf-73a0-4e0d-b2af-c86e330e1afa"
      },
      "outputs": [
        {
          "output_type": "stream",
          "name": "stdout",
          "text": [
            "Mounted at /content/drive\n"
          ]
        }
      ],
      "source": [
        "from google.colab import drive\n",
        "drive.mount('/content/drive')"
      ]
    },
    {
      "cell_type": "code",
      "source": [
        "cd /content/drive/My Drive"
      ],
      "metadata": {
        "colab": {
          "base_uri": "https://localhost:8080/"
        },
        "id": "fO6OT5ZkdS8N",
        "outputId": "9b06da73-d982-4fb3-c311-88203c21d51e"
      },
      "execution_count": null,
      "outputs": [
        {
          "output_type": "stream",
          "name": "stdout",
          "text": [
            "/content/drive/My Drive\n"
          ]
        }
      ]
    },
    {
      "cell_type": "code",
      "source": [
        "import os\n",
        "dataset_dir = '36uci'\n",
        "dataset_names = os.listdir(os.path.join(os.getcwd(), dataset_dir))\n",
        "datasets=[]\n",
        "for i in range(0,36):\n",
        "  datasets.append('/content/drive/My Drive/36uci/'+dataset_names[i]) #drive'dan verisetleri okundu"
      ],
      "metadata": {
        "id": "6VXmmJOGdYZ7"
      },
      "execution_count": null,
      "outputs": []
    },
    {
      "cell_type": "code",
      "source": [
        "from scipy.io import arff\n",
        "\n",
        "count=36\n",
        "print(datasets[count])\n",
        "data, meta = arff.loadarff(datasets[count]) \n",
        "data = np.array(data.tolist(), dtype=np.float32) #arff formatındaki dataset numpy arrayine dönüştürüldü\n",
        "df = pd.DataFrame(data)\n",
        "df.dropna(inplace=True) #varsa eksik bilgili satırları sil\n",
        "X = df.iloc[:,:-1] #features\n",
        "y =  df.iloc[:,-1:] #labels"
      ],
      "metadata": {
        "id": "C4Uppa70RA0f"
      },
      "execution_count": null,
      "outputs": []
    },
    {
      "cell_type": "code",
      "source": [
        "from sklearn.preprocessing import LabelEncoder\n",
        "\n",
        "le = LabelEncoder()\n",
        "\n",
        "y=le.fit_transform(y.values.ravel()) #kategorik özellikler için encoding"
      ],
      "metadata": {
        "id": "r0DPT7N-mzGh"
      },
      "execution_count": null,
      "outputs": []
    },
    {
      "cell_type": "code",
      "source": [
        "y=y.reshape(-1,1)\n",
        "y=pd.DataFrame.from_records(y)"
      ],
      "metadata": {
        "id": "PF5c3pdIooW0"
      },
      "execution_count": null,
      "outputs": []
    },
    {
      "cell_type": "code",
      "source": [
        "X_train, X_test, y_train, y_test = train_test_split(X, y, test_size=0.25, random_state=42) \n",
        "X_train_Data=X_train[:]\n",
        "y_train=y_train.astype(int) \n",
        "y_test=y_test.astype(int)\n",
        "X_train_Data['label'] = y_train\n",
        "train_data=X_train_Data"
      ],
      "metadata": {
        "id": "bOwf0awifLwH"
      },
      "execution_count": null,
      "outputs": []
    },
    {
      "cell_type": "code",
      "source": [
        "def build_model(X_train, y_train): #build models by using decision tree, random forest, bagging, boosting and random subspace\n",
        "  \n",
        "  print(datasets[count])\n",
        "\n",
        "  clf = DecisionTreeClassifier(random_state=42)\n",
        "\n",
        "  clf.fit(X_train, y_train.values.ravel())\n",
        "  train_acc = clf.score(X_train, y_train) \n",
        "  test_acc = clf.score(X_test, y_test) \n",
        "  print(\"Decision tree train accuracy:\"+str(train_acc))\n",
        "  print(\"Decision tree test accuracy:\"+str(test_acc)+\"\\n\")\n",
        "\n",
        "  clf = RandomForestClassifier(n_estimators=10, random_state=13)\n",
        "  \n",
        "  clf.fit(X_train, y_train.values.ravel())\n",
        "  train_acc = clf.score(X_train, y_train) \n",
        "  test_acc = clf.score(X_test, y_test) \n",
        "  print(\"Random forest train accuracy:\"+str(train_acc))\n",
        "  print(\"Random forest test accuracy:\"+str(test_acc)+\"\\n\")\n",
        "\n",
        "  clf = BaggingClassifier(n_estimators=10, random_state=35) #default base estimator is decision tree\n",
        " \n",
        "  clf.fit(X_train, y_train.values.ravel())\n",
        "  train_acc = clf.score(X_train, y_train) \n",
        "  test_acc = clf.score(X_test, y_test) \n",
        "  print(\"Bagging train accuracy:\"+str(train_acc))\n",
        "  print(\"Bagging test accuracy:\"+str(test_acc)+\"\\n\")\n",
        "\n",
        "  clf = GradientBoostingClassifier(n_estimators=10, random_state=16) #gradient boosting is used\n",
        "  \n",
        "  clf.fit(X_train, y_train.values.ravel())\n",
        "  train_acc = clf.score(X_train, y_train) \n",
        "  test_acc = clf.score(X_test, y_test) \n",
        "  print(\"Gradient Boosting train accuracy:\"+str(train_acc))\n",
        "  print(\"Gradient Boosting test accuracy:\"+str(test_acc)+\"\\n\")\n",
        "\n",
        "  clf = GradientBoostingClassifier(n_estimators=10, max_features=int(len(X_train.iloc[0])/2), random_state=70) #gradient boosting is used\n",
        "  \n",
        "  clf.fit(X_train, y_train.values.ravel())\n",
        "  train_acc = clf.score(X_train, y_train) \n",
        "  test_acc = clf.score(X_test, y_test) \n",
        "  print(\"Random Subspace train accuracy:\"+str(train_acc))\n",
        "  print(\"Random Subspace test accuracy:\"+str(test_acc)+\"\\n\")\n"
      ],
      "metadata": {
        "id": "_RSk6YVS7ITG"
      },
      "execution_count": null,
      "outputs": []
    },
    {
      "cell_type": "code",
      "source": [
        "build_model(X_train, y_train)"
      ],
      "metadata": {
        "id": "nroIygvvyDYW"
      },
      "execution_count": null,
      "outputs": []
    }
  ]
}